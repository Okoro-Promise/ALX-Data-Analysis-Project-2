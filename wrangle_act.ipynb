{
 "cells": [
  {
   "cell_type": "markdown",
   "id": "0c5e5db4-c050-49f6-ab0b-d2c553978c73",
   "metadata": {},
   "source": [
    "<font size=\"+3\"><strong> Project 2: Data Wrangling</strong></font>\n",
    "\n",
    "## Table of Contents\n",
    "<ul>\n",
    "<li><a href=\"#Gathering\">1.0 Gathering Data</a></li>\n",
    "<li><a href=\"#Accessing\">2.0 Accessing Data</a></li>\n",
    "<li><a href=\"#Cleaning\">3.0 Cleaning Data</a></li>\n",
    "<li><a href=\"#Storing\">4.0 Storing Data</a></li>\n",
    "<li><a href=\"#Eda\">5.0 Analyzing and Visualizing Data</a></li>\n",
    "</ul>\n",
    "\n",
    "## Import packages\n",
    "The first step of any data analysis project is importing the packages"
   ]
  },
  {
   "cell_type": "code",
   "execution_count": 1,
   "id": "ed1cc98e-84cf-49df-9ee1-bcdd7336b4e0",
   "metadata": {},
   "outputs": [],
   "source": [
    "import requests\n",
    "import json\n",
    "from timeit import default_timer as timer\n",
    "import pandas as pd\n",
    "import matplotlib.pyplot as plt \n",
    "import tweepy\n",
    "from tweepy import OAuthHandler"
   ]
  },
  {
   "cell_type": "markdown",
   "id": "588d4f32-e5ac-4513-9dac-1882ab8be153",
   "metadata": {},
   "source": [
    "<a id='Gathering'></a>\n",
    "## 1.0 Gathering Data\n",
    "Import \"*twitter-archive-enhanced.csv*\" into the workspace"
   ]
  },
  {
   "cell_type": "code",
   "execution_count": 2,
   "id": "aa10c7d4-6be7-4d9e-a6c9-c55ca774ef61",
   "metadata": {},
   "outputs": [],
   "source": [
    "df_archive = pd.read_csv(\"twitter-archive-enhanced.csv\")"
   ]
  },
  {
   "cell_type": "markdown",
   "id": "810eb289-c049-43eb-ae0d-37e32fed0255",
   "metadata": {},
   "source": [
    "Create access tokens with my twitter developer authetication passcodes"
   ]
  },
  {
   "cell_type": "code",
   "execution_count": null,
   "id": "8c29039a-02ec-4437-aa2f-d18d6f158694",
   "metadata": {},
   "outputs": [],
   "source": [
    "consumer_key = \"CONSUMER KEY\"\n",
    "consumer_secret = \"CONSUMER SECRET\"\n",
    "access_token = \"ACCESS TOKEN\"\n",
    "access_secret = \"ACCESS SECRET\""
   ]
  },
  {
   "cell_type": "code",
   "execution_count": null,
   "id": "17f8cb20-3f44-454f-96bb-7c956068f9da",
   "metadata": {},
   "outputs": [],
   "source": [
    "auth = tweepy.OAuthHandler(consumer_key, consumer_secret)\n",
    "auth.set_access_token(access_token, access_secret)"
   ]
  },
  {
   "cell_type": "code",
   "execution_count": null,
   "id": "e4d42046-f8c0-4fde-8a95-b7d1c7770cd5",
   "metadata": {},
   "outputs": [],
   "source": [
    "api = tweepy.API(auth, wait_on_rate_limit=True)"
   ]
  },
  {
   "cell_type": "code",
   "execution_count": null,
   "id": "2980fb0e-d282-448f-be3d-d20fb8d2aada",
   "metadata": {},
   "outputs": [],
   "source": [
    "tweet_ids = df_1.tweet_id.values\n",
    "len(tweet_ids)"
   ]
  },
  {
   "cell_type": "markdown",
   "id": "985b8821-d5cf-4223-9de1-ed2a8f99a44e",
   "metadata": {},
   "source": [
    "Query Twitter's API for JSON data for each tweet ID in **df_archive** and appending Exceptions to *fails_dict*\n"
   ]
  },
  {
   "cell_type": "code",
   "execution_count": null,
   "id": "4520cc51-b466-4d27-9968-58a804d284c3",
   "metadata": {},
   "outputs": [],
   "source": [
    "count = 0\n",
    "fails_dict = {}\n",
    "start = timer()\n",
    "\n",
    "with open('tweet_json.txt', 'w') as outfile:\n",
    "    # This loop will likely take 20-30 minutes to run because of Twitter's rate limit\n",
    "    for tweet_id in tweet_ids:\n",
    "        count += 1\n",
    "        print(str(count) + \": \" + str(tweet_id))\n",
    "        try:\n",
    "            tweet = api.get_status(tweet_id, tweet_mode='extended')\n",
    "            print(\"Success\")\n",
    "            json.dump(tweet._json, outfile)\n",
    "            outfile.write('\\n')\n",
    "        except Exception as e:\n",
    "            print(\"Fail\")\n",
    "            fails_dict[tweet_id] = e\n",
    "            pass\n",
    "end = timer()\n",
    "print(end - start)\n",
    "print(fails_dict)"
   ]
  },
  {
   "cell_type": "markdown",
   "id": "75724566-ed8a-4a77-84da-0a3bc6449227",
   "metadata": {},
   "source": [
    "Next\n",
    "\n",
    "Import *'tweet_json.txt'* into a pandas DataFrame *df_api*"
   ]
  },
  {
   "cell_type": "code",
   "execution_count": 3,
   "id": "c9dab74d-cb94-4981-8650-ebb7f7db5b65",
   "metadata": {},
   "outputs": [],
   "source": [
    "df_api = pd.read_json(\"tweet_json.txt\",lines=True)"
   ]
  },
  {
   "cell_type": "markdown",
   "id": "06d63903-8ca3-4b48-824a-abde95612c94",
   "metadata": {},
   "source": [
    "Create *image_predictions.tsv* Programmatically from the Udacity server"
   ]
  },
  {
   "cell_type": "code",
   "execution_count": 4,
   "id": "3ea73521-25f0-4e64-937f-a96c085b726d",
   "metadata": {},
   "outputs": [],
   "source": [
    "url = \"https://d17h27t6h515a5.cloudfront.net/topher/2017/August/599fd2ad_image-predictions/image-predictions.tsv\"\n",
    "response = requests.get(url)"
   ]
  },
  {
   "cell_type": "code",
   "execution_count": 5,
   "id": "5872df7c-eb0b-4809-8fd2-c18bdd6a3776",
   "metadata": {},
   "outputs": [],
   "source": [
    "with open(\"image_predictions.tsv\",\"wb\") as file:\n",
    "    file.write(response.content)"
   ]
  },
  {
   "cell_type": "markdown",
   "id": "2a991b9b-b0d6-4b40-a0cc-d32c46b7a42e",
   "metadata": {},
   "source": [
    "Import \"*image_predictions.tsv*\" into pandas DataFrame"
   ]
  },
  {
   "cell_type": "code",
   "execution_count": 6,
   "id": "ec09abbc-3242-48d2-9679-8ffc0c4784c3",
   "metadata": {},
   "outputs": [],
   "source": [
    "df_img_pred= pd.read_csv(\"image_predictions.tsv\",sep=\"\\t\")"
   ]
  },
  {
   "cell_type": "markdown",
   "id": "1aff6d3c-ea52-41da-9eda-5ed3e10305cb",
   "metadata": {},
   "source": [
    "Now we have gathered the **3** different DataFrames we need for this Project, It is time to access them for quality and tidiness"
   ]
  },
  {
   "cell_type": "markdown",
   "id": "73176e64-273d-4a1d-a8ba-49640ec4dca8",
   "metadata": {},
   "source": [
    "<a id='Accessing'></a>\n",
    "## 2.0 Accessing Data\n",
    "### 2.1 Data Quality\n",
    " - Visual assessment"
   ]
  },
  {
   "cell_type": "code",
   "execution_count": null,
   "id": "0349a507-2deb-4134-9345-411575cec33c",
   "metadata": {},
   "outputs": [],
   "source": [
    "df_archive"
   ]
  },
  {
   "cell_type": "code",
   "execution_count": null,
   "id": "51e36210-56db-4987-ab25-ed451cbec2f4",
   "metadata": {},
   "outputs": [],
   "source": [
    "df_api"
   ]
  },
  {
   "cell_type": "code",
   "execution_count": null,
   "id": "eb8a1d6d-2091-4480-b701-6d1c407246ec",
   "metadata": {},
   "outputs": [],
   "source": [
    "df_img_pred"
   ]
  },
  {
   "cell_type": "markdown",
   "id": "443b670d-17d7-4b33-9a4f-f79f4eff946a",
   "metadata": {},
   "source": [
    "Now let us access our data programmatically\n",
    "- Programmatic Assesment"
   ]
  },
  {
   "cell_type": "code",
   "execution_count": null,
   "id": "d842f1ae-4ec2-4ef2-b486-788783ceb5b1",
   "metadata": {},
   "outputs": [],
   "source": [
    "type(df_archive.timestamp[0])"
   ]
  },
  {
   "cell_type": "code",
   "execution_count": null,
   "id": "70e8a8bf-7404-4675-ba84-b1af2cf9b012",
   "metadata": {},
   "outputs": [],
   "source": [
    "df_archive.floofer.value_counts()"
   ]
  },
  {
   "cell_type": "code",
   "execution_count": null,
   "id": "bb1a1ebf-ac7a-4542-94e6-78f877f6d4c4",
   "metadata": {},
   "outputs": [],
   "source": [
    "df_archive[df_archive.name== 'None']"
   ]
  },
  {
   "cell_type": "code",
   "execution_count": null,
   "id": "d81db88a-adf9-4e36-9538-d01222e2944e",
   "metadata": {},
   "outputs": [],
   "source": [
    "df_archive.info()"
   ]
  },
  {
   "cell_type": "code",
   "execution_count": null,
   "id": "858cb0cf-c676-434e-9a8d-75214dd686a0",
   "metadata": {},
   "outputs": [],
   "source": [
    "df_api.possibly_sensitive_appealable.value_counts()"
   ]
  },
  {
   "cell_type": "markdown",
   "id": "2989fd48-abfd-4e9d-8ec4-4454c7161805",
   "metadata": {},
   "source": [
    "### 2.2 Data Tidiness"
   ]
  },
  {
   "cell_type": "code",
   "execution_count": 84,
   "id": "768fb6d9-4e00-4f96-899b-da72b18826a9",
   "metadata": {},
   "outputs": [
    {
     "data": {
      "text/plain": [
       "[\"This is Phineas. He's a mystical boy. Only ever appears in the hole of a donut. 13/10 https://t.co/MgUWQ76dJU\"]"
      ]
     },
     "execution_count": 84,
     "metadata": {},
     "output_type": "execute_result"
    }
   ],
   "source": [
    "df_archive.text.head(1).tolist()"
   ]
  },
  {
   "cell_type": "code",
   "execution_count": 11,
   "id": "32ed4fee-c5b0-4461-99d0-e960be595e19",
   "metadata": {},
   "outputs": [
    {
     "data": {
      "text/html": [
       "<div>\n",
       "<style scoped>\n",
       "    .dataframe tbody tr th:only-of-type {\n",
       "        vertical-align: middle;\n",
       "    }\n",
       "\n",
       "    .dataframe tbody tr th {\n",
       "        vertical-align: top;\n",
       "    }\n",
       "\n",
       "    .dataframe thead th {\n",
       "        text-align: right;\n",
       "    }\n",
       "</style>\n",
       "<table border=\"1\" class=\"dataframe\">\n",
       "  <thead>\n",
       "    <tr style=\"text-align: right;\">\n",
       "      <th></th>\n",
       "      <th>id</th>\n",
       "      <th>id_str</th>\n",
       "    </tr>\n",
       "  </thead>\n",
       "  <tbody>\n",
       "    <tr>\n",
       "      <th>536</th>\n",
       "      <td>803692223237865472</td>\n",
       "      <td>803692223237865472</td>\n",
       "    </tr>\n",
       "  </tbody>\n",
       "</table>\n",
       "</div>"
      ],
      "text/plain": [
       "                     id              id_str\n",
       "536  803692223237865472  803692223237865472"
      ]
     },
     "execution_count": 11,
     "metadata": {},
     "output_type": "execute_result"
    }
   ],
   "source": [
    "df_api[[\"id\",\"id_str\"]].sample()"
   ]
  },
  {
   "cell_type": "markdown",
   "id": "d64be28f-bd43-4e10-b116-88d9fded606f",
   "metadata": {},
   "source": [
    "<a id='Cleaning'></a>\n",
    "## 3.0 Cleaning Data\n",
    "### 3.1 Clean df_api\n",
    "First I will make a copy of *df_api* called *df_api_clean*"
   ]
  },
  {
   "cell_type": "code",
   "execution_count": 7,
   "id": "0e6fdfdb-780c-4a6f-9352-a4b22c662382",
   "metadata": {},
   "outputs": [],
   "source": [
    "df_api_clean = df_api.copy()"
   ]
  },
  {
   "cell_type": "markdown",
   "id": "36c03520-c758-4434-a369-0d94514e52a4",
   "metadata": {},
   "source": [
    "The first step of cleaning *df_api_clean* is to drop redundant columns i.e columns with over 70% NAN values"
   ]
  },
  {
   "cell_type": "code",
   "execution_count": 8,
   "id": "3a605f13-c46c-447d-9f51-2ad0e9cf68e0",
   "metadata": {},
   "outputs": [],
   "source": [
    "#list of redundant cols\n",
    "nan_columns = [\"in_reply_to_status_id\",\"in_reply_to_status_id_str\",\"in_reply_to_user_id\",\"in_reply_to_user_id_str\",\n",
    "         \"in_reply_to_screen_name\",\"geo\",\"coordinates\",\"place\",\"contributors\",\"retweeted_status\",\"quoted_status_id\",\n",
    "         \"quoted_status_id_str\",\"quoted_status_permalink\",\"quoted_status\"]"
   ]
  },
  {
   "cell_type": "code",
   "execution_count": 9,
   "id": "e2413f0b-7d7e-406e-bc53-dfb69c274716",
   "metadata": {},
   "outputs": [],
   "source": [
    "#Drop nan_columns from df_api_clean\n",
    "df_api_clean.drop(columns=nan_columns,inplace=True)"
   ]
  },
  {
   "cell_type": "code",
   "execution_count": 59,
   "id": "5e335583-ab65-44fe-8ad5-73e0646f466c",
   "metadata": {
    "jupyter": {
     "source_hidden": true
    },
    "tags": []
   },
   "outputs": [],
   "source": [
    "#Test\n",
    "for col in nan_columns:\n",
    "    if col in df_api_clean.columns:\n",
    "        print(\"Error!!\")"
   ]
  },
  {
   "cell_type": "markdown",
   "id": "78b88241-5e77-4ec8-a0e0-ab6f91bff2d3",
   "metadata": {},
   "source": [
    "The next step to cleaning *df_api_clean* is dropping single cardinality variables that do not offer any information to us"
   ]
  },
  {
   "cell_type": "code",
   "execution_count": 11,
   "id": "df6c9a79-1f27-4862-a819-bf4a1ad33271",
   "metadata": {},
   "outputs": [
    {
     "name": "stdout",
     "output_type": "stream",
     "text": [
      "truncated\n",
      "favorited\n",
      "retweeted\n",
      "possibly_sensitive\n",
      "possibly_sensitive_appealable\n"
     ]
    }
   ],
   "source": [
    "# Identify single cardinality columns i.e columns with only one value \n",
    "# and append to our single_val_cols list\n",
    "single_val_cols =[]\n",
    "for col in df_api_clean.columns:\n",
    "    if len(df_api_clean[col].value_counts()) == 1:\n",
    "        single_val_cols.append(col)\n",
    "        print(col)\n",
    "    else:\n",
    "         pass"
   ]
  },
  {
   "cell_type": "code",
   "execution_count": 12,
   "id": "aa4405f4-ffc3-44a0-85d9-208ce016f6f7",
   "metadata": {},
   "outputs": [],
   "source": [
    "# Drop single_val_cols from df_api_clean\n",
    "df_api_clean.drop(columns= single_val_cols,inplace=True)"
   ]
  },
  {
   "cell_type": "code",
   "execution_count": 13,
   "id": "e91f8bda-f0fc-4359-8cc3-bb0922d63aba",
   "metadata": {},
   "outputs": [],
   "source": [
    "#Test\n",
    "for col in single_val_cols:\n",
    "    if col in df_api_clean.columns:\n",
    "        print(\"Error!!!\")"
   ]
  },
  {
   "cell_type": "markdown",
   "id": "a06b00b8-a3ea-44fd-a585-74463caa0b74",
   "metadata": {},
   "source": [
    "During Visual assessment, I found that the \"*id*\" column is duplicated in *id_str* so we drop *id_str* column and rename *id* to *tweet_id*"
   ]
  },
  {
   "cell_type": "code",
   "execution_count": 14,
   "id": "424f5c71-787f-4ca1-9641-f240aef14cf0",
   "metadata": {},
   "outputs": [],
   "source": [
    "# Drop id_str col\n",
    "df_api_clean.drop(columns=\"id_str\",inplace=True)"
   ]
  },
  {
   "cell_type": "code",
   "execution_count": 15,
   "id": "1910955c-3762-4082-9a50-5babfb53210a",
   "metadata": {},
   "outputs": [],
   "source": [
    "# Rename \"id\" to \"tweet_id\" and \"created_at\" to \"timestamp\"\n",
    "df_api_clean.rename(columns= {\"id\":\"tweet_id\",\n",
    "                             \"created_at\":\"timestamp\"},\n",
    "                    inplace=True)"
   ]
  },
  {
   "cell_type": "markdown",
   "id": "10eae92e-574d-4b1f-8474-e1932bcdfe1d",
   "metadata": {},
   "source": [
    "Columns *entities, user* and *extended_entities* contain data we have in other columns/tables and appear to be very noisy, so lets drop them"
   ]
  },
  {
   "cell_type": "code",
   "execution_count": 16,
   "id": "943ea1dc-709e-4bb4-a48b-6b8390e589d9",
   "metadata": {},
   "outputs": [],
   "source": [
    "df_api_clean.drop(columns=[\"extended_entities\",\"user\",\"entities\"],inplace=True)"
   ]
  },
  {
   "cell_type": "code",
   "execution_count": 17,
   "id": "ce218475-a2ad-4c15-aef6-7faf58435666",
   "metadata": {},
   "outputs": [],
   "source": [
    "#Test\n",
    "for col in [\"extended_entities\",\"user\",\"entities\"]:\n",
    "    if col in df_api_clean.columns:\n",
    "        print(\"Error!!!\")"
   ]
  },
  {
   "cell_type": "markdown",
   "id": "5aa70ca5-1554-434c-baf9-cb85eb378c4c",
   "metadata": {},
   "source": [
    "During Data Tidiness Assessment we found that column *full_text* contains the ratings and the tweet link alongside the tweet,we want to extract all three into different columns using **Regular Expression**"
   ]
  },
  {
   "cell_type": "markdown",
   "id": "19ed7eef-28fd-49c9-8bc0-352117892671",
   "metadata": {},
   "source": [
    "To do that, let us define a function *extract_multi_cols*"
   ]
  },
  {
   "cell_type": "code",
   "execution_count": 18,
   "id": "55bdbd34-17fc-48ed-9ddd-3ae047de6f7f",
   "metadata": {},
   "outputs": [],
   "source": [
    "def extract_multi_cols (df,text_col,url_col,rate_col):\n",
    "    \"\"\"Takes in four parameters df, text_col, url_col, rate_col and returns \n",
    "    df with additional two new column\n",
    "    \n",
    "        Parameters:\n",
    "            df : DataFrame containing the data\n",
    "            text_col(str): name of column in df to extract new cols from\n",
    "            url_col(str) : name of column to contain the tweet url\n",
    "            rate_col(str): name of column to contain the tweet ratings\n",
    "        Returns:\n",
    "            df : DataFrame containing cleaned with two new columns\n",
    "    \"\"\"\n",
    "    #Extract the url_col and drop it from the text_col \n",
    "    df[url_col] = df[text_col].str.extract(\"(?P<url>https?://[^\\s]+)\",expand=True)\n",
    "    df[text_col] = df[text_col].str.replace(\"\\s*(?P<url>https?://[^\\s]+)\\s*\",\"\",n=1,regex=True)\n",
    "    \n",
    "    #Extract the rate_col and drop it from the text_col\n",
    "    df[rate_col] = df[text_col].str.extract(\"([0-9]{1,2}/[0-9]{1,2})\",expand=True)\n",
    "    df[text_col] = df[text_col].str.replace(\"([0-9]{1,2}/[0-9]{1,2})\",\"\",n=1,regex=True)\n",
    "    \n",
    "    return df\n",
    "    "
   ]
  },
  {
   "cell_type": "markdown",
   "id": "f67ce90a-5c4b-4bee-93da-59c96baf744e",
   "metadata": {},
   "source": [
    "Now let us use our function **extract_multi_cols** to solve our tidiness issues in *df_api_clean*"
   ]
  },
  {
   "cell_type": "code",
   "execution_count": 19,
   "id": "b9e89f39-8738-40a8-aa70-2bf4491a1001",
   "metadata": {},
   "outputs": [],
   "source": [
    "df_api_clean = extract_multi_cols(df_api_clean,\"full_text\",\"tweet_url\",\"ratings\")"
   ]
  },
  {
   "cell_type": "code",
   "execution_count": 20,
   "id": "b3ec591c-1c77-4866-a00a-001ef48011ed",
   "metadata": {},
   "outputs": [
    {
     "data": {
      "text/html": [
       "<div>\n",
       "<style scoped>\n",
       "    .dataframe tbody tr th:only-of-type {\n",
       "        vertical-align: middle;\n",
       "    }\n",
       "\n",
       "    .dataframe tbody tr th {\n",
       "        vertical-align: top;\n",
       "    }\n",
       "\n",
       "    .dataframe thead th {\n",
       "        text-align: right;\n",
       "    }\n",
       "</style>\n",
       "<table border=\"1\" class=\"dataframe\">\n",
       "  <thead>\n",
       "    <tr style=\"text-align: right;\">\n",
       "      <th></th>\n",
       "      <th>tweet_url</th>\n",
       "      <th>ratings</th>\n",
       "    </tr>\n",
       "  </thead>\n",
       "  <tbody>\n",
       "    <tr>\n",
       "      <th>0</th>\n",
       "      <td>https://t.co/MgUWQ76dJU</td>\n",
       "      <td>13/10</td>\n",
       "    </tr>\n",
       "    <tr>\n",
       "      <th>1</th>\n",
       "      <td>https://t.co/0Xxu71qeIV</td>\n",
       "      <td>13/10</td>\n",
       "    </tr>\n",
       "    <tr>\n",
       "      <th>2</th>\n",
       "      <td>https://t.co/wUnZnhtVJB</td>\n",
       "      <td>12/10</td>\n",
       "    </tr>\n",
       "    <tr>\n",
       "      <th>3</th>\n",
       "      <td>https://t.co/tD36da7qLQ</td>\n",
       "      <td>13/10</td>\n",
       "    </tr>\n",
       "    <tr>\n",
       "      <th>4</th>\n",
       "      <td>https://t.co/AtUZn91f7f</td>\n",
       "      <td>12/10</td>\n",
       "    </tr>\n",
       "  </tbody>\n",
       "</table>\n",
       "</div>"
      ],
      "text/plain": [
       "                 tweet_url ratings\n",
       "0  https://t.co/MgUWQ76dJU   13/10\n",
       "1  https://t.co/0Xxu71qeIV   13/10\n",
       "2  https://t.co/wUnZnhtVJB   12/10\n",
       "3  https://t.co/tD36da7qLQ   13/10\n",
       "4  https://t.co/AtUZn91f7f   12/10"
      ]
     },
     "execution_count": 20,
     "metadata": {},
     "output_type": "execute_result"
    }
   ],
   "source": [
    "#Test\n",
    "df_api_clean[[\"tweet_url\",\"ratings\"]].head()"
   ]
  },
  {
   "cell_type": "markdown",
   "id": "fa1d8eb8-f2d2-4227-a3db-32cdebbfaeb4",
   "metadata": {},
   "source": [
    "### 3.2 Clean df_archive\n",
    "First I will make a copy of *df_archive* called *df_archive_clean*"
   ]
  },
  {
   "cell_type": "code",
   "execution_count": 21,
   "id": "315b0667-dc3c-4e68-b0b2-3691d13d6336",
   "metadata": {},
   "outputs": [],
   "source": [
    "df_archive_clean = df_archive.copy()"
   ]
  },
  {
   "cell_type": "markdown",
   "id": "5fc13f7c-cd2d-41ec-b005-4ed0517c0cd2",
   "metadata": {},
   "source": [
    "Again, The first step of cleaning *df_api_clean* is to drop redundant columns i.e columns with over 70% NAN values"
   ]
  },
  {
   "cell_type": "code",
   "execution_count": 22,
   "id": "17416d08-7ee5-45ee-b810-82a763bc33da",
   "metadata": {},
   "outputs": [],
   "source": [
    "#list of redundact columns\n",
    "redundact_list = [\"in_reply_to_status_id\",\"in_reply_to_user_id\",\"retweeted_status_id\",\n",
    "                 \"retweeted_status_user_id\",\"retweeted_status_timestamp\",]"
   ]
  },
  {
   "cell_type": "code",
   "execution_count": 23,
   "id": "b042eda5-577e-4e01-aeca-dc7cc793020d",
   "metadata": {},
   "outputs": [],
   "source": [
    "# Drop redundact columns\n",
    "df_archive_clean.drop(columns=redundact_list,inplace=True)"
   ]
  },
  {
   "cell_type": "code",
   "execution_count": 24,
   "id": "a92860bf-5154-4ef3-b49b-b0a730b026eb",
   "metadata": {},
   "outputs": [],
   "source": [
    "#Test\n",
    "for col in redundact_list:\n",
    "    if col in df_img_pred.columns:\n",
    "        print(\"Error!!!\")"
   ]
  },
  {
   "cell_type": "markdown",
   "id": "b7417314-6b69-4799-9b7a-3d114f8aa77c",
   "metadata": {},
   "source": [
    "Convert column *timestamp* to a pandas Datetime object"
   ]
  },
  {
   "cell_type": "code",
   "execution_count": 25,
   "id": "1d0abe13-b856-4cac-8170-541ed1547751",
   "metadata": {},
   "outputs": [],
   "source": [
    "df_archive_clean.timestamp = pd.to_datetime(df_archive_clean.timestamp)"
   ]
  },
  {
   "cell_type": "code",
   "execution_count": 26,
   "id": "73f28b42-6bf2-4340-bfc6-703f2d616371",
   "metadata": {},
   "outputs": [
    {
     "name": "stdout",
     "output_type": "stream",
     "text": [
      "<class 'pandas.core.series.Series'>\n",
      "RangeIndex: 2356 entries, 0 to 2355\n",
      "Series name: timestamp\n",
      "Non-Null Count  Dtype              \n",
      "--------------  -----              \n",
      "2356 non-null   datetime64[ns, UTC]\n",
      "dtypes: datetime64[ns, UTC](1)\n",
      "memory usage: 18.5 KB\n"
     ]
    }
   ],
   "source": [
    "#Test\n",
    "df_archive_clean.timestamp.info()"
   ]
  },
  {
   "cell_type": "markdown",
   "id": "3027a839-5fa1-4618-88f4-1df2157a8831",
   "metadata": {},
   "source": [
    "Rename column *text* to *full_text*"
   ]
  },
  {
   "cell_type": "code",
   "execution_count": 27,
   "id": "8f8f2d6d-5293-4df4-b88e-98c1f76ea64b",
   "metadata": {},
   "outputs": [],
   "source": [
    "df_archive_clean.rename(columns={\"text\":\"full_text\"},inplace=True)"
   ]
  },
  {
   "cell_type": "markdown",
   "id": "5534ebe5-eb2d-44e1-9ad4-a459ac439813",
   "metadata": {},
   "source": [
    "Now lets use our *extract_multi_cols* function to solve the same tidiness issues we saw while cleaning df_api"
   ]
  },
  {
   "cell_type": "code",
   "execution_count": 28,
   "id": "4c1a9949-86dc-4304-a992-bf37252fdcb9",
   "metadata": {},
   "outputs": [],
   "source": [
    "df_archive_clean = extract_multi_cols(df_archive_clean,\"full_text\",\"tweet_url\",\"ratings\")"
   ]
  },
  {
   "cell_type": "markdown",
   "id": "6eb5e211-fe0c-4190-887a-657185724bab",
   "metadata": {},
   "source": [
    "### 3.3 Clean df_img_pred\n",
    "First I will make a copy of *df_img_pred* called *df_pred_clean*"
   ]
  },
  {
   "cell_type": "code",
   "execution_count": 29,
   "id": "30a67c66-783a-419d-90fe-0685b45b7d72",
   "metadata": {},
   "outputs": [],
   "source": [
    "df_pred_clean = df_img_pred.copy()"
   ]
  },
  {
   "cell_type": "markdown",
   "id": "8ad3d68a-0b50-4123-97c1-8072acc14bc8",
   "metadata": {},
   "source": [
    "Our *df_pred_clean* table looks pretty clean but we need to do some cleaning\n",
    "\n",
    "I will convert the dog breed names in columns *p1, p2* and *p3* to lowercase"
   ]
  },
  {
   "cell_type": "code",
   "execution_count": 30,
   "id": "d65e37d3-21cf-480b-baea-4c8e619e89a4",
   "metadata": {},
   "outputs": [],
   "source": [
    "dog_breed = [\"p1\",\"p2\",\"p3\"]\n",
    "for col in dog_breed:\n",
    "    df_pred_clean[col]= df_pred_clean[col].str.lower()"
   ]
  },
  {
   "cell_type": "code",
   "execution_count": 31,
   "id": "1b926470-20df-4d73-8a82-6a4ea45dd2a9",
   "metadata": {},
   "outputs": [
    {
     "data": {
      "text/html": [
       "<div>\n",
       "<style scoped>\n",
       "    .dataframe tbody tr th:only-of-type {\n",
       "        vertical-align: middle;\n",
       "    }\n",
       "\n",
       "    .dataframe tbody tr th {\n",
       "        vertical-align: top;\n",
       "    }\n",
       "\n",
       "    .dataframe thead th {\n",
       "        text-align: right;\n",
       "    }\n",
       "</style>\n",
       "<table border=\"1\" class=\"dataframe\">\n",
       "  <thead>\n",
       "    <tr style=\"text-align: right;\">\n",
       "      <th></th>\n",
       "      <th>p1</th>\n",
       "      <th>p2</th>\n",
       "      <th>p3</th>\n",
       "    </tr>\n",
       "  </thead>\n",
       "  <tbody>\n",
       "    <tr>\n",
       "      <th>0</th>\n",
       "      <td>welsh_springer_spaniel</td>\n",
       "      <td>collie</td>\n",
       "      <td>shetland_sheepdog</td>\n",
       "    </tr>\n",
       "    <tr>\n",
       "      <th>1</th>\n",
       "      <td>redbone</td>\n",
       "      <td>miniature_pinscher</td>\n",
       "      <td>rhodesian_ridgeback</td>\n",
       "    </tr>\n",
       "    <tr>\n",
       "      <th>2</th>\n",
       "      <td>german_shepherd</td>\n",
       "      <td>malinois</td>\n",
       "      <td>bloodhound</td>\n",
       "    </tr>\n",
       "    <tr>\n",
       "      <th>3</th>\n",
       "      <td>rhodesian_ridgeback</td>\n",
       "      <td>redbone</td>\n",
       "      <td>miniature_pinscher</td>\n",
       "    </tr>\n",
       "    <tr>\n",
       "      <th>4</th>\n",
       "      <td>miniature_pinscher</td>\n",
       "      <td>rottweiler</td>\n",
       "      <td>doberman</td>\n",
       "    </tr>\n",
       "  </tbody>\n",
       "</table>\n",
       "</div>"
      ],
      "text/plain": [
       "                       p1                  p2                   p3\n",
       "0  welsh_springer_spaniel              collie    shetland_sheepdog\n",
       "1                 redbone  miniature_pinscher  rhodesian_ridgeback\n",
       "2         german_shepherd            malinois           bloodhound\n",
       "3     rhodesian_ridgeback             redbone   miniature_pinscher\n",
       "4      miniature_pinscher          rottweiler             doberman"
      ]
     },
     "execution_count": 31,
     "metadata": {},
     "output_type": "execute_result"
    }
   ],
   "source": [
    "#Test\n",
    "df_pred_clean[[\"p1\",\"p2\",\"p3\"]].head()"
   ]
  },
  {
   "cell_type": "markdown",
   "id": "a5bdb4cb-bceb-4385-97b7-9947be277e83",
   "metadata": {},
   "source": [
    "<a id='Storing'></a>\n",
    "## 4.0 Storing Data"
   ]
  },
  {
   "cell_type": "markdown",
   "id": "f0af7c23-5701-4197-b422-d9fabbbd8b0f",
   "metadata": {},
   "source": [
    "Now it is time to combine our three cleaned Dataframes and store it as a csv file ***twitter_archive_master.csv***"
   ]
  },
  {
   "cell_type": "code",
   "execution_count": 32,
   "id": "fe466683-31d7-4f8d-a772-5f507b34e13c",
   "metadata": {},
   "outputs": [],
   "source": [
    "# Combine df_api_clean, df_archive_clean and df_pred_clean\n",
    "master_df = pd.merge(pd.merge(df_api_clean,\n",
    "                                df_archive_clean,on=['tweet_id',\"timestamp\",\"source\",\"tweet_url\",\"ratings\",\"full_text\"]),\n",
    "                       df_pred_clean,on='tweet_id')"
   ]
  },
  {
   "cell_type": "code",
   "execution_count": 33,
   "id": "1c682098-8056-4648-b487-bee763866d5d",
   "metadata": {},
   "outputs": [
    {
     "name": "stdout",
     "output_type": "stream",
     "text": [
      "<class 'pandas.core.frame.DataFrame'>\n",
      "Int64Index: 2057 entries, 0 to 2056\n",
      "Data columns (total 30 columns):\n",
      " #   Column              Non-Null Count  Dtype              \n",
      "---  ------              --------------  -----              \n",
      " 0   timestamp           2057 non-null   datetime64[ns, UTC]\n",
      " 1   tweet_id            2057 non-null   int64              \n",
      " 2   full_text           2057 non-null   object             \n",
      " 3   display_text_range  2057 non-null   object             \n",
      " 4   source              2057 non-null   object             \n",
      " 5   is_quote_status     2057 non-null   bool               \n",
      " 6   retweet_count       2057 non-null   int64              \n",
      " 7   favorite_count      2057 non-null   int64              \n",
      " 8   lang                2057 non-null   object             \n",
      " 9   tweet_url           2057 non-null   object             \n",
      " 10  ratings             2057 non-null   object             \n",
      " 11  expanded_urls       2057 non-null   object             \n",
      " 12  rating_numerator    2057 non-null   int64              \n",
      " 13  rating_denominator  2057 non-null   int64              \n",
      " 14  name                2057 non-null   object             \n",
      " 15  doggo               2057 non-null   object             \n",
      " 16  floofer             2057 non-null   object             \n",
      " 17  pupper              2057 non-null   object             \n",
      " 18  puppo               2057 non-null   object             \n",
      " 19  jpg_url             2057 non-null   object             \n",
      " 20  img_num             2057 non-null   int64              \n",
      " 21  p1                  2057 non-null   object             \n",
      " 22  p1_conf             2057 non-null   float64            \n",
      " 23  p1_dog              2057 non-null   bool               \n",
      " 24  p2                  2057 non-null   object             \n",
      " 25  p2_conf             2057 non-null   float64            \n",
      " 26  p2_dog              2057 non-null   bool               \n",
      " 27  p3                  2057 non-null   object             \n",
      " 28  p3_conf             2057 non-null   float64            \n",
      " 29  p3_dog              2057 non-null   bool               \n",
      "dtypes: bool(4), datetime64[ns, UTC](1), float64(3), int64(6), object(16)\n",
      "memory usage: 441.9+ KB\n"
     ]
    }
   ],
   "source": [
    "master_df.info()"
   ]
  },
  {
   "cell_type": "code",
   "execution_count": 34,
   "id": "02e3b7c6-c417-4dc9-86b0-0f36ee07e860",
   "metadata": {},
   "outputs": [],
   "source": [
    "# Store master_df as csv file\n",
    "master_df.to_csv(\"twitter_archive_master.csv\",index=False)"
   ]
  },
  {
   "cell_type": "markdown",
   "id": "020071cd-dcb9-4b98-8e11-d8c1f307f927",
   "metadata": {},
   "source": [
    "<a id='Eda'></a>\n",
    "## 5.0 Analyzing and Visualizing Data\n",
    "\n",
    "Now we want to use our *master_df* to get some insights into our data"
   ]
  },
  {
   "cell_type": "markdown",
   "id": "11e21c4b-0845-435c-bdf3-10a6ade4a4ce",
   "metadata": {},
   "source": [
    "### 5.1 Question 1: What are the names of the top 10 dogs with the highest retweet count and their ratings?"
   ]
  },
  {
   "cell_type": "markdown",
   "id": "f1681f42-20f0-463a-9b9e-c6fe0b25a2ee",
   "metadata": {},
   "source": [
    "First, let us create a DataFrame with the top 10 dog names as index and their *rating_numerator* and *retweet_count* as the columns "
   ]
  },
  {
   "cell_type": "code",
   "execution_count": 35,
   "id": "a7657b58-1a21-4f38-bb0a-016514ad8326",
   "metadata": {},
   "outputs": [],
   "source": [
    "# Create top_ten_dogs DataFrame \n",
    "top_ten_dogs = pd.pivot_table(\n",
    "    master_df,index=\"name\",\n",
    "    values = [\"retweet_count\",\"rating_numerator\"],\n",
    "    aggfunc='max'\n",
    "    \n",
    ").sort_values(by=\"retweet_count\",ascending=False).head(10)"
   ]
  },
  {
   "cell_type": "code",
   "execution_count": 36,
   "id": "6ddfa1fd-2de0-49a9-8903-9a4a359a3ec1",
   "metadata": {},
   "outputs": [
    {
     "data": {
      "text/html": [
       "<div>\n",
       "<style scoped>\n",
       "    .dataframe tbody tr th:only-of-type {\n",
       "        vertical-align: middle;\n",
       "    }\n",
       "\n",
       "    .dataframe tbody tr th {\n",
       "        vertical-align: top;\n",
       "    }\n",
       "\n",
       "    .dataframe thead th {\n",
       "        text-align: right;\n",
       "    }\n",
       "</style>\n",
       "<table border=\"1\" class=\"dataframe\">\n",
       "  <thead>\n",
       "    <tr style=\"text-align: right;\">\n",
       "      <th></th>\n",
       "      <th>rating_numerator</th>\n",
       "      <th>retweet_count</th>\n",
       "    </tr>\n",
       "    <tr>\n",
       "      <th>name</th>\n",
       "      <th></th>\n",
       "      <th></th>\n",
       "    </tr>\n",
       "  </thead>\n",
       "  <tbody>\n",
       "    <tr>\n",
       "      <th>None</th>\n",
       "      <td>420</td>\n",
       "      <td>70380</td>\n",
       "    </tr>\n",
       "    <tr>\n",
       "      <th>Stephan</th>\n",
       "      <td>13</td>\n",
       "      <td>51455</td>\n",
       "    </tr>\n",
       "    <tr>\n",
       "      <th>Duddles</th>\n",
       "      <td>13</td>\n",
       "      <td>37291</td>\n",
       "    </tr>\n",
       "    <tr>\n",
       "      <th>Bo</th>\n",
       "      <td>14</td>\n",
       "      <td>34438</td>\n",
       "    </tr>\n",
       "    <tr>\n",
       "      <th>Jamesy</th>\n",
       "      <td>13</td>\n",
       "      <td>30074</td>\n",
       "    </tr>\n",
       "    <tr>\n",
       "      <th>Kenneth</th>\n",
       "      <td>10</td>\n",
       "      <td>27666</td>\n",
       "    </tr>\n",
       "    <tr>\n",
       "      <th>quite</th>\n",
       "      <td>12</td>\n",
       "      <td>26186</td>\n",
       "    </tr>\n",
       "    <tr>\n",
       "      <th>Buddy</th>\n",
       "      <td>13</td>\n",
       "      <td>25030</td>\n",
       "    </tr>\n",
       "    <tr>\n",
       "      <th>Zoey</th>\n",
       "      <td>13</td>\n",
       "      <td>22669</td>\n",
       "    </tr>\n",
       "    <tr>\n",
       "      <th>Sunny</th>\n",
       "      <td>14</td>\n",
       "      <td>17734</td>\n",
       "    </tr>\n",
       "  </tbody>\n",
       "</table>\n",
       "</div>"
      ],
      "text/plain": [
       "         rating_numerator  retweet_count\n",
       "name                                    \n",
       "None                  420          70380\n",
       "Stephan                13          51455\n",
       "Duddles                13          37291\n",
       "Bo                     14          34438\n",
       "Jamesy                 13          30074\n",
       "Kenneth                10          27666\n",
       "quite                  12          26186\n",
       "Buddy                  13          25030\n",
       "Zoey                   13          22669\n",
       "Sunny                  14          17734"
      ]
     },
     "execution_count": 36,
     "metadata": {},
     "output_type": "execute_result"
    }
   ],
   "source": [
    "top_ten_dogs"
   ]
  },
  {
   "cell_type": "markdown",
   "id": "64c5cd90-32e1-40a0-a8d0-3524432e5fd4",
   "metadata": {},
   "source": [
    "We can see the **ratings** and **names** of the top 10 retweeted dogs but the first dog does not seem to conform to the defined schema for \"*rating_numerator*\" so we drop the row  "
   ]
  },
  {
   "cell_type": "code",
   "execution_count": 37,
   "id": "f5495f30-82e6-457e-bb7d-1d8151e47c9f",
   "metadata": {},
   "outputs": [
    {
     "data": {
      "text/html": [
       "<div>\n",
       "<style scoped>\n",
       "    .dataframe tbody tr th:only-of-type {\n",
       "        vertical-align: middle;\n",
       "    }\n",
       "\n",
       "    .dataframe tbody tr th {\n",
       "        vertical-align: top;\n",
       "    }\n",
       "\n",
       "    .dataframe thead th {\n",
       "        text-align: right;\n",
       "    }\n",
       "</style>\n",
       "<table border=\"1\" class=\"dataframe\">\n",
       "  <thead>\n",
       "    <tr style=\"text-align: right;\">\n",
       "      <th></th>\n",
       "      <th>rating_numerator</th>\n",
       "      <th>retweet_count</th>\n",
       "    </tr>\n",
       "    <tr>\n",
       "      <th>name</th>\n",
       "      <th></th>\n",
       "      <th></th>\n",
       "    </tr>\n",
       "  </thead>\n",
       "  <tbody>\n",
       "    <tr>\n",
       "      <th>Stephan</th>\n",
       "      <td>13</td>\n",
       "      <td>51455</td>\n",
       "    </tr>\n",
       "    <tr>\n",
       "      <th>Duddles</th>\n",
       "      <td>13</td>\n",
       "      <td>37291</td>\n",
       "    </tr>\n",
       "    <tr>\n",
       "      <th>Bo</th>\n",
       "      <td>14</td>\n",
       "      <td>34438</td>\n",
       "    </tr>\n",
       "    <tr>\n",
       "      <th>Jamesy</th>\n",
       "      <td>13</td>\n",
       "      <td>30074</td>\n",
       "    </tr>\n",
       "    <tr>\n",
       "      <th>Kenneth</th>\n",
       "      <td>10</td>\n",
       "      <td>27666</td>\n",
       "    </tr>\n",
       "    <tr>\n",
       "      <th>quite</th>\n",
       "      <td>12</td>\n",
       "      <td>26186</td>\n",
       "    </tr>\n",
       "    <tr>\n",
       "      <th>Buddy</th>\n",
       "      <td>13</td>\n",
       "      <td>25030</td>\n",
       "    </tr>\n",
       "    <tr>\n",
       "      <th>Zoey</th>\n",
       "      <td>13</td>\n",
       "      <td>22669</td>\n",
       "    </tr>\n",
       "    <tr>\n",
       "      <th>Sunny</th>\n",
       "      <td>14</td>\n",
       "      <td>17734</td>\n",
       "    </tr>\n",
       "  </tbody>\n",
       "</table>\n",
       "</div>"
      ],
      "text/plain": [
       "         rating_numerator  retweet_count\n",
       "name                                    \n",
       "Stephan                13          51455\n",
       "Duddles                13          37291\n",
       "Bo                     14          34438\n",
       "Jamesy                 13          30074\n",
       "Kenneth                10          27666\n",
       "quite                  12          26186\n",
       "Buddy                  13          25030\n",
       "Zoey                   13          22669\n",
       "Sunny                  14          17734"
      ]
     },
     "execution_count": 37,
     "metadata": {},
     "output_type": "execute_result"
    }
   ],
   "source": [
    "#Drop dirty row from top_ten_dogs\n",
    "top_ten_dogs.drop([\"None\"],axis=0,inplace=True)\n",
    "top_ten_dogs"
   ]
  },
  {
   "cell_type": "markdown",
   "id": "c94e3d7a-2ee9-4734-ab82-a6735715536e",
   "metadata": {},
   "source": [
    "Let us visualize it"
   ]
  },
  {
   "cell_type": "code",
   "execution_count": 38,
   "id": "8ab948d1-02dd-4a17-831e-5a47dae16e2b",
   "metadata": {},
   "outputs": [
    {
     "data": {
      "image/png": "[encoded data removed]",
      "text/plain": [
       "<Figure size 720x288 with 1 Axes>"
      ]
     },
     "metadata": {
      "needs_background": "light"
     },
     "output_type": "display_data"
    }
   ],
   "source": [
    "# Plot dog names to retweet count\n",
    "fig,ax = plt.subplots(figsize=(10,4))\n",
    "top_ten_dogs.drop(columns=\"rating_numerator\").plot.barh(ax=ax)\n",
    "plt.ylabel(\"Dog name\")\n",
    "plt.xlabel(\"Retweet Count\")\n",
    "plt.title(\"Names of Dogs with the most retweet count\");"
   ]
  },
  {
   "cell_type": "markdown",
   "id": "5059b1f3-d74c-42e0-a176-1802ea612a55",
   "metadata": {},
   "source": [
    "### 5.2 Questionn 2 : What is the average *Retweet_counts* by rating of the dogs in our top_ten_dogs DataFrame?"
   ]
  },
  {
   "cell_type": "code",
   "execution_count": 39,
   "id": "07f62ab0-b92b-446a-ba2c-c3066d0a5812",
   "metadata": {},
   "outputs": [
    {
     "data": {
      "text/html": [
       "<div>\n",
       "<style scoped>\n",
       "    .dataframe tbody tr th:only-of-type {\n",
       "        vertical-align: middle;\n",
       "    }\n",
       "\n",
       "    .dataframe tbody tr th {\n",
       "        vertical-align: top;\n",
       "    }\n",
       "\n",
       "    .dataframe thead th {\n",
       "        text-align: right;\n",
       "    }\n",
       "</style>\n",
       "<table border=\"1\" class=\"dataframe\">\n",
       "  <thead>\n",
       "    <tr style=\"text-align: right;\">\n",
       "      <th></th>\n",
       "      <th>retweet_count</th>\n",
       "    </tr>\n",
       "    <tr>\n",
       "      <th>rating_numerator</th>\n",
       "      <th></th>\n",
       "    </tr>\n",
       "  </thead>\n",
       "  <tbody>\n",
       "    <tr>\n",
       "      <th>13</th>\n",
       "      <td>33303.8</td>\n",
       "    </tr>\n",
       "    <tr>\n",
       "      <th>10</th>\n",
       "      <td>27666.0</td>\n",
       "    </tr>\n",
       "    <tr>\n",
       "      <th>12</th>\n",
       "      <td>26186.0</td>\n",
       "    </tr>\n",
       "    <tr>\n",
       "      <th>14</th>\n",
       "      <td>26086.0</td>\n",
       "    </tr>\n",
       "  </tbody>\n",
       "</table>\n",
       "</div>"
      ],
      "text/plain": [
       "                  retweet_count\n",
       "rating_numerator               \n",
       "13                      33303.8\n",
       "10                      27666.0\n",
       "12                      26186.0\n",
       "14                      26086.0"
      ]
     },
     "execution_count": 39,
     "metadata": {},
     "output_type": "execute_result"
    }
   ],
   "source": [
    "top_ten_dogs.groupby(\"rating_numerator\")[\"retweet_count\"].mean().sort_values(ascending=False).to_frame()"
   ]
  },
  {
   "cell_type": "markdown",
   "id": "cb36acf2-67e3-4ede-a264-f336f4959707",
   "metadata": {},
   "source": [
    "We can see that the dogs rated **13** and **10** recorded the highest average retweet count whilst **14** had the lowest average rating among the dogs in *top_ten_dogs* "
   ]
  },
  {
   "cell_type": "markdown",
   "id": "527fda17-f56b-411c-89ff-70334de7e59d",
   "metadata": {},
   "source": [
    "### 5.3 Question 3: What is the Proportion of each dog rating in our Dataset and which rating appeared more frequently?\n",
    "\n",
    "First, Let us see the unique *rating_numerator*values in our **master_df** DataFrame"
   ]
  },
  {
   "cell_type": "code",
   "execution_count": 40,
   "id": "e4e5fc11-9ca0-4e1c-8e8e-ac7c081fb2dd",
   "metadata": {},
   "outputs": [
    {
     "data": {
      "text/plain": [
       "35"
      ]
     },
     "execution_count": 40,
     "metadata": {},
     "output_type": "execute_result"
    }
   ],
   "source": [
    "unique_rates = master_df.rating_numerator.unique().tolist()\n",
    "len(unique_rates)"
   ]
  },
  {
   "cell_type": "markdown",
   "id": "c8fc92ad-2402-4812-b060-3ca206ffef40",
   "metadata": {},
   "source": [
    "We can see that we have a lot of unique dog ratings (35) but from the [data schema](https://knowyourmeme.com/memes/theyre-good-dogs-brent), we can see that the range of dog ratings should be from **10 to 15**, so anything above and below does not conform to this defined schema\n",
    "\n",
    "To perform our analysis let us extract the ratings that are not valid"
   ]
  },
  {
   "cell_type": "code",
   "execution_count": 41,
   "id": "f4382730-dfbf-4453-998d-5e6836b03a3c",
   "metadata": {},
   "outputs": [],
   "source": [
    "# Extract invalid ratings and append to invalid_list\n",
    "invalid_rate_list=[]\n",
    "valid_rate_list= []\n",
    "for idx in unique_rates:\n",
    "    if idx not in range(10,16,1):\n",
    "        invalid_rate_list.append(idx)\n",
    "    else:\n",
    "        valid_rate_list.append(idx)"
   ]
  },
  {
   "cell_type": "markdown",
   "id": "477f496b-46bd-4341-8106-9ba7bdceb5bb",
   "metadata": {},
   "source": [
    "Using DataFrame **.mask()** method, let us convert invalid *rating_numerator* to **NaN** and then drop it from the df"
   ]
  },
  {
   "cell_type": "code",
   "execution_count": 42,
   "id": "efaf973c-9dfe-4222-b842-1d4c45a9ea19",
   "metadata": {},
   "outputs": [],
   "source": [
    "master_df.mask((master_df.rating_numerator < 10) | (master_df.rating_numerator > 15),inplace=True)"
   ]
  },
  {
   "cell_type": "code",
   "execution_count": 43,
   "id": "1e842abf-2580-4b63-a799-5f14a6f1c5f6",
   "metadata": {},
   "outputs": [],
   "source": [
    "#Drop NaN and convert back to type int\n",
    "master_df.dropna(inplace=True)\n",
    "master_df.rating_numerator = master_df[[\"rating_numerator\"]].astype(int)"
   ]
  },
  {
   "cell_type": "markdown",
   "id": "bc1c3e65-0579-4ced-926a-add1a79cba14",
   "metadata": {},
   "source": [
    "Now we have drop Invalid data, we can now check the proportion of each rating to the entire ratings in our *master_df* DataFrame"
   ]
  },
  {
   "cell_type": "code",
   "execution_count": 44,
   "id": "e1e24026-dff3-4583-b37d-32686945b4bc",
   "metadata": {},
   "outputs": [
    {
     "data": {
      "text/html": [
       "<div>\n",
       "<style scoped>\n",
       "    .dataframe tbody tr th:only-of-type {\n",
       "        vertical-align: middle;\n",
       "    }\n",
       "\n",
       "    .dataframe tbody tr th {\n",
       "        vertical-align: top;\n",
       "    }\n",
       "\n",
       "    .dataframe thead th {\n",
       "        text-align: right;\n",
       "    }\n",
       "</style>\n",
       "<table border=\"1\" class=\"dataframe\">\n",
       "  <thead>\n",
       "    <tr style=\"text-align: right;\">\n",
       "      <th></th>\n",
       "      <th>rating_numerator</th>\n",
       "    </tr>\n",
       "  </thead>\n",
       "  <tbody>\n",
       "    <tr>\n",
       "      <th>12</th>\n",
       "      <td>471</td>\n",
       "    </tr>\n",
       "    <tr>\n",
       "      <th>10</th>\n",
       "      <td>425</td>\n",
       "    </tr>\n",
       "    <tr>\n",
       "      <th>11</th>\n",
       "      <td>413</td>\n",
       "    </tr>\n",
       "    <tr>\n",
       "      <th>13</th>\n",
       "      <td>275</td>\n",
       "    </tr>\n",
       "    <tr>\n",
       "      <th>14</th>\n",
       "      <td>38</td>\n",
       "    </tr>\n",
       "    <tr>\n",
       "      <th>15</th>\n",
       "      <td>1</td>\n",
       "    </tr>\n",
       "  </tbody>\n",
       "</table>\n",
       "</div>"
      ],
      "text/plain": [
       "    rating_numerator\n",
       "12               471\n",
       "10               425\n",
       "11               413\n",
       "13               275\n",
       "14                38\n",
       "15                 1"
      ]
     },
     "execution_count": 44,
     "metadata": {},
     "output_type": "execute_result"
    }
   ],
   "source": [
    "# Check the Value Count of Rating\n",
    "master_df.rating_numerator.value_counts().to_frame()"
   ]
  },
  {
   "cell_type": "markdown",
   "id": "42c88a88-aefd-425f-a056-b2b8fcba875c",
   "metadata": {},
   "source": [
    "We can see that in our Entire dataset, only one dog received a **15** rating, and well over 471 dogs recieved **12** rating\n",
    "\n",
    "Let check the proportion of this ratings"
   ]
  },
  {
   "cell_type": "code",
   "execution_count": 45,
   "id": "0d8b07b8-7489-45c1-b42d-6892059d4d4d",
   "metadata": {},
   "outputs": [
    {
     "data": {
      "text/html": [
       "<div>\n",
       "<style scoped>\n",
       "    .dataframe tbody tr th:only-of-type {\n",
       "        vertical-align: middle;\n",
       "    }\n",
       "\n",
       "    .dataframe tbody tr th {\n",
       "        vertical-align: top;\n",
       "    }\n",
       "\n",
       "    .dataframe thead th {\n",
       "        text-align: right;\n",
       "    }\n",
       "</style>\n",
       "<table border=\"1\" class=\"dataframe\">\n",
       "  <thead>\n",
       "    <tr style=\"text-align: right;\">\n",
       "      <th></th>\n",
       "      <th>rating_numerator</th>\n",
       "    </tr>\n",
       "  </thead>\n",
       "  <tbody>\n",
       "    <tr>\n",
       "      <th>12</th>\n",
       "      <td>0.290203</td>\n",
       "    </tr>\n",
       "    <tr>\n",
       "      <th>10</th>\n",
       "      <td>0.261861</td>\n",
       "    </tr>\n",
       "    <tr>\n",
       "      <th>11</th>\n",
       "      <td>0.254467</td>\n",
       "    </tr>\n",
       "    <tr>\n",
       "      <th>13</th>\n",
       "      <td>0.169439</td>\n",
       "    </tr>\n",
       "    <tr>\n",
       "      <th>14</th>\n",
       "      <td>0.023413</td>\n",
       "    </tr>\n",
       "    <tr>\n",
       "      <th>15</th>\n",
       "      <td>0.000616</td>\n",
       "    </tr>\n",
       "  </tbody>\n",
       "</table>\n",
       "</div>"
      ],
      "text/plain": [
       "    rating_numerator\n",
       "12          0.290203\n",
       "10          0.261861\n",
       "11          0.254467\n",
       "13          0.169439\n",
       "14          0.023413\n",
       "15          0.000616"
      ]
     },
     "execution_count": 45,
     "metadata": {},
     "output_type": "execute_result"
    }
   ],
   "source": [
    "master_df.rating_numerator.value_counts(normalize=True).to_frame()"
   ]
  },
  {
   "cell_type": "markdown",
   "id": "1d2d4057-9dcf-4fa6-b135-6d83c1c18bd7",
   "metadata": {},
   "source": [
    "With **471** Dogs rated as 12 that represents about **29%** of our Dataset "
   ]
  },
  {
   "cell_type": "code",
   "execution_count": 47,
   "id": "46fd740b-f926-416d-ba13-60ace9739834",
   "metadata": {},
   "outputs": [
    {
     "name": "stdout",
     "output_type": "stream",
     "text": [
      "<class 'pandas.core.frame.DataFrame'>\n",
      "Int64Index: 1623 entries, 0 to 2051\n",
      "Data columns (total 30 columns):\n",
      " #   Column              Non-Null Count  Dtype              \n",
      "---  ------              --------------  -----              \n",
      " 0   timestamp           1623 non-null   datetime64[ns, UTC]\n",
      " 1   tweet_id            1623 non-null   float64            \n",
      " 2   full_text           1623 non-null   object             \n",
      " 3   display_text_range  1623 non-null   object             \n",
      " 4   source              1623 non-null   object             \n",
      " 5   is_quote_status     1623 non-null   object             \n",
      " 6   retweet_count       1623 non-null   float64            \n",
      " 7   favorite_count      1623 non-null   float64            \n",
      " 8   lang                1623 non-null   object             \n",
      " 9   tweet_url           1623 non-null   object             \n",
      " 10  ratings             1623 non-null   object             \n",
      " 11  expanded_urls       1623 non-null   object             \n",
      " 12  rating_numerator    1623 non-null   int32              \n",
      " 13  rating_denominator  1623 non-null   float64            \n",
      " 14  name                1623 non-null   object             \n",
      " 15  doggo               1623 non-null   object             \n",
      " 16  floofer             1623 non-null   object             \n",
      " 17  pupper              1623 non-null   object             \n",
      " 18  puppo               1623 non-null   object             \n",
      " 19  jpg_url             1623 non-null   object             \n",
      " 20  img_num             1623 non-null   float64            \n",
      " 21  p1                  1623 non-null   object             \n",
      " 22  p1_conf             1623 non-null   float64            \n",
      " 23  p1_dog              1623 non-null   object             \n",
      " 24  p2                  1623 non-null   object             \n",
      " 25  p2_conf             1623 non-null   float64            \n",
      " 26  p2_dog              1623 non-null   object             \n",
      " 27  p3                  1623 non-null   object             \n",
      " 28  p3_conf             1623 non-null   float64            \n",
      " 29  p3_dog              1623 non-null   object             \n",
      "dtypes: datetime64[ns, UTC](1), float64(8), int32(1), object(20)\n",
      "memory usage: 386.7+ KB\n"
     ]
    }
   ],
   "source": [
    "master_df.info()"
   ]
  },
  {
   "cell_type": "markdown",
   "id": "eb177c10-4b2d-48c5-a6c4-161667ed2897",
   "metadata": {},
   "source": [
    "During the Cleaning process of our previous analysis, some columns in our *master_df* DataFrame had there datatypes changed\n",
    "Let us convert back to the appropriate Datatypes"
   ]
  },
  {
   "cell_type": "code",
   "execution_count": 49,
   "id": "21b61c77-e48e-411c-8804-0671ff39a051",
   "metadata": {},
   "outputs": [],
   "source": [
    "#List of cols to convert\n",
    "integer_cols = [\"tweet_id\",\"retweet_count\",\"favorite_count\",\"rating_denominator\",\"img_num\"]\n",
    "bool_cols = [\"is_quote_status\",\"p1_dog\",\"p2_dog\",\"p3_dog\"]"
   ]
  },
  {
   "cell_type": "code",
   "execution_count": 76,
   "id": "1927541c-3aab-4fbc-8f6c-3c5d108c23bb",
   "metadata": {},
   "outputs": [],
   "source": [
    "#convert interger_cols and bool_cols to dtypes int and bool respectively\n",
    "master_df[integer_cols] = master_df[integer_cols].astype(int)\n",
    "master_df[bool_cols] = master_df[bool_cols].astype(bool)\n",
    "master_df[\"tweet_id\"] = master_df[\"tweet_id\"].apply(abs)"
   ]
  },
  {
   "cell_type": "code",
   "execution_count": 77,
   "id": "53b3f3a9-3dee-4e66-8321-cd047ccd6915",
   "metadata": {},
   "outputs": [
    {
     "data": {
      "text/plain": [
       "0    2147483648\n",
       "1    2147483648\n",
       "2    2147483648\n",
       "3    2147483648\n",
       "4    2147483648\n",
       "Name: tweet_id, dtype: int64"
      ]
     },
     "execution_count": 77,
     "metadata": {},
     "output_type": "execute_result"
    }
   ],
   "source": [
    "master_df.tweet_id.head()"
   ]
  },
  {
   "cell_type": "code",
   "execution_count": null,
   "id": "792863d0-b8c0-47a6-b46a-ee78ef46a7a0",
   "metadata": {},
   "outputs": [],
   "source": []
  }
 ],
 "metadata": {
  "kernelspec": {
   "display_name": "Python 3 (ipykernel)",
   "language": "python",
   "name": "python3"
  },
  "language_info": {
   "codemirror_mode": {
    "name": "ipython",
    "version": 3
   },
   "file_extension": ".py",
   "mimetype": "text/x-python",
   "name": "python",
   "nbconvert_exporter": "python",
   "pygments_lexer": "ipython3",
   "version": "3.9.12"
  }
 },
 "nbformat": 4,
 "nbformat_minor": 5
}
